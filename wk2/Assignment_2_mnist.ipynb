{
  "nbformat": 4,
  "nbformat_minor": 0,
  "metadata": {
    "colab": {
      "name": "Assignment 2.ipynb",
      "provenance": [],
      "collapsed_sections": [],
      "include_colab_link": true
    },
    "kernelspec": {
      "name": "python3",
      "display_name": "Python 3"
    },
    "accelerator": "GPU"
  },
  "cells": [
    {
      "cell_type": "markdown",
      "metadata": {
        "id": "view-in-github",
        "colab_type": "text"
      },
      "source": [
        "<a href=\"https://colab.research.google.com/github/ShaunakNandi/EIP4.0/blob/master/wk2/Assignment_2_mnist.ipynb\" target=\"_parent\"><img src=\"https://colab.research.google.com/assets/colab-badge.svg\" alt=\"Open In Colab\"/></a>"
      ]
    },
    {
      "cell_type": "code",
      "metadata": {
        "id": "0SJyVpgSxHt4",
        "colab_type": "code",
        "outputId": "a682eb11-bef1-49b6-b50c-cfcaf32772ec",
        "colab": {
          "base_uri": "https://localhost:8080/",
          "height": 80
        }
      },
      "source": [
        "import numpy as np\n",
        "\n",
        "from keras.models import Sequential\n",
        "from keras.layers import Dropout, Activation, GlobalAveragePooling2D, BatchNormalization\n",
        "from keras.layers import Convolution2D, MaxPooling2D\n",
        "from keras.utils import np_utils\n",
        "\n",
        "from keras.datasets import mnist"
      ],
      "execution_count": 1,
      "outputs": [
        {
          "output_type": "stream",
          "text": [
            "Using TensorFlow backend.\n"
          ],
          "name": "stderr"
        },
        {
          "output_type": "display_data",
          "data": {
            "text/html": [
              "<p style=\"color: red;\">\n",
              "The default version of TensorFlow in Colab will soon switch to TensorFlow 2.x.<br>\n",
              "We recommend you <a href=\"https://www.tensorflow.org/guide/migrate\" target=\"_blank\">upgrade</a> now \n",
              "or ensure your notebook will continue to use TensorFlow 1.x via the <code>%tensorflow_version 1.x</code> magic:\n",
              "<a href=\"https://colab.research.google.com/notebooks/tensorflow_version.ipynb\" target=\"_blank\">more info</a>.</p>\n"
            ],
            "text/plain": [
              "<IPython.core.display.HTML object>"
            ]
          },
          "metadata": {
            "tags": []
          }
        }
      ]
    },
    {
      "cell_type": "code",
      "metadata": {
        "id": "YlEUplvoxKAT",
        "colab_type": "code",
        "colab": {}
      },
      "source": [
        "(X_train, y_train), (X_test, y_test) = mnist.load_data()\n"
      ],
      "execution_count": 0,
      "outputs": []
    },
    {
      "cell_type": "code",
      "metadata": {
        "id": "I6Y9Va-xxMXG",
        "colab_type": "code",
        "outputId": "e452dec4-8f17-49fa-dd56-b3099eefa247",
        "colab": {
          "base_uri": "https://localhost:8080/",
          "height": 299
        }
      },
      "source": [
        "print (X_train.shape)\n",
        "from matplotlib import pyplot as plt\n",
        "%matplotlib inline\n",
        "plt.imshow(X_train[1])"
      ],
      "execution_count": 3,
      "outputs": [
        {
          "output_type": "stream",
          "text": [
            "(60000, 28, 28)\n"
          ],
          "name": "stdout"
        },
        {
          "output_type": "execute_result",
          "data": {
            "text/plain": [
              "<matplotlib.image.AxesImage at 0x7fe35adf4630>"
            ]
          },
          "metadata": {
            "tags": []
          },
          "execution_count": 3
        },
        {
          "output_type": "display_data",
          "data": {
            "image/png": "[encoded data removed]",
            "text/plain": [
              "<Figure size 432x288 with 1 Axes>"
            ]
          },
          "metadata": {
            "tags": []
          }
        }
      ]
    },
    {
      "cell_type": "code",
      "metadata": {
        "id": "lxDZxPhhxOgO",
        "colab_type": "code",
        "colab": {}
      },
      "source": [
        "X_train = X_train.reshape(X_train.shape[0], 28, 28,1)\n",
        "X_test = X_test.reshape(X_test.shape[0], 28, 28,1)"
      ],
      "execution_count": 0,
      "outputs": []
    },
    {
      "cell_type": "code",
      "metadata": {
        "id": "3HzMqbTnxQQW",
        "colab_type": "code",
        "colab": {}
      },
      "source": [
        "X_train = X_train.astype('float32')\n",
        "X_test = X_test.astype('float32')\n",
        "X_train /= 255\n",
        "X_test /= 255"
      ],
      "execution_count": 0,
      "outputs": []
    },
    {
      "cell_type": "code",
      "metadata": {
        "id": "7LdYiW6ixR9e",
        "colab_type": "code",
        "colab": {}
      },
      "source": [
        "y_train[:10]\n",
        "Y_train = np_utils.to_categorical(y_train, 10)\n",
        "Y_test = np_utils.to_categorical(y_test, 10)"
      ],
      "execution_count": 0,
      "outputs": []
    },
    {
      "cell_type": "code",
      "metadata": {
        "id": "rFR0F9j0xVp2",
        "colab_type": "code",
        "outputId": "f7e29dd7-6bfc-4b8f-f42b-35c9ec467e7e",
        "colab": {
          "base_uri": "https://localhost:8080/",
          "height": 187
        }
      },
      "source": [
        "Y_train[:10]"
      ],
      "execution_count": 7,
      "outputs": [
        {
          "output_type": "execute_result",
          "data": {
            "text/plain": [
              "array([[0., 0., 0., 0., 0., 1., 0., 0., 0., 0.],\n",
              "       [1., 0., 0., 0., 0., 0., 0., 0., 0., 0.],\n",
              "       [0., 0., 0., 0., 1., 0., 0., 0., 0., 0.],\n",
              "       [0., 1., 0., 0., 0., 0., 0., 0., 0., 0.],\n",
              "       [0., 0., 0., 0., 0., 0., 0., 0., 0., 1.],\n",
              "       [0., 0., 1., 0., 0., 0., 0., 0., 0., 0.],\n",
              "       [0., 1., 0., 0., 0., 0., 0., 0., 0., 0.],\n",
              "       [0., 0., 0., 1., 0., 0., 0., 0., 0., 0.],\n",
              "       [0., 1., 0., 0., 0., 0., 0., 0., 0., 0.],\n",
              "       [0., 0., 0., 0., 1., 0., 0., 0., 0., 0.]], dtype=float32)"
            ]
          },
          "metadata": {
            "tags": []
          },
          "execution_count": 7
        }
      ]
    },
    {
      "cell_type": "code",
      "metadata": {
        "id": "mDpXf4YQxXRm",
        "colab_type": "code",
        "outputId": "a88aaadc-d9fe-4f25-8ca6-4569c3b01342",
        "colab": {
          "base_uri": "https://localhost:8080/",
          "height": 1000
        }
      },
      "source": [
        "from keras.optimizers import Adam, SGD\n",
        "from keras.callbacks import ModelCheckpoint\n",
        "\n",
        "model = Sequential()\n",
        " \n",
        "model.add(Convolution2D(16, (3,3), activation='relu', use_bias=False, input_shape=(28,28,1), name='input')) #26\n",
        "model.add(BatchNormalization(name='BN1'))\n",
        "model.add(Dropout(0.1, name='drop1'))\n",
        "model.add(Convolution2D(16, (3,3), activation='relu', use_bias=False, name='layer1')) #24\n",
        "model.add(BatchNormalization(name='BN2'))\n",
        "model.add(Dropout(0.1, name='drop2'))\n",
        "\n",
        "model.add(Convolution2D(16, (1,1), activation='relu', use_bias=False, name='trans1')) #24\n",
        "model.add(BatchNormalization(name='BN3'))\n",
        "model.add(MaxPooling2D(2,2, name='MP1')) #12\n",
        "\n",
        "model.add(Convolution2D(16, (3,3), activation='relu', use_bias=False, name='layer2')) #10\n",
        "model.add(BatchNormalization(name='BN4'))\n",
        "model.add(Dropout(0.1, name='drop3'))\n",
        "model.add(Convolution2D(16, (3,3), activation='relu', use_bias=False, name='layer3')) #8\n",
        "model.add(BatchNormalization(name='BN5'))\n",
        "model.add(Dropout(0.1, name='drop4'))\n",
        "\n",
        "model.add(MaxPooling2D(2,2, name='MP2'))#4\n",
        "\n",
        "model.add(Convolution2D(32, (3,3), activation='relu', use_bias=False, name='layer4')) #2\n",
        "model.add(BatchNormalization(name='BN7'))\n",
        "model.add(Dropout(0.1, name='drop5'))\n",
        "\n",
        "model.add(Convolution2D(10, (1,1), use_bias=False, activation='relu'))\n",
        "model.add(GlobalAveragePooling2D(data_format='channels_last', name='output'))\n",
        "'''\n",
        "model.add(BatchNormalization(name='BN8'))\n",
        "model.add(Dropout(0.1, name='drop6'))\n",
        "model.add(Convolution2D(10, 2), use_bias=False, )\n",
        "model.add(Flatten())\n",
        "'''\n",
        "model.add(Activation('softmax', name='softmax'))\n",
        "\n",
        "model.summary()\n",
        "\n",
        "_optimizer_ = SGD(lr=0.01, decay=1e-6, momentum=0.9, nesterov=True)\n",
        "\n",
        "model.compile(loss='categorical_crossentropy',\n",
        "             optimizer=_optimizer_,\n",
        "             metrics=['accuracy'])\n",
        "\n",
        "monitor_val_acc = ModelCheckpoint(filepath='/content/mnist.h5', monitor='val_acc', verbose=0, save_best_only=False, save_weights_only=False, mode='auto', period=1)\n",
        "mod = model.fit(X_train, Y_train, batch_size=32, nb_epoch=20, verbose=1, callbacks=[monitor_val_acc], validation_data=(X_test, Y_test))"
      ],
      "execution_count": 8,
      "outputs": [
        {
          "output_type": "stream",
          "text": [
            "WARNING:tensorflow:From /usr/local/lib/python3.6/dist-packages/keras/backend/tensorflow_backend.py:66: The name tf.get_default_graph is deprecated. Please use tf.compat.v1.get_default_graph instead.\n",
            "\n",
            "WARNING:tensorflow:From /usr/local/lib/python3.6/dist-packages/keras/backend/tensorflow_backend.py:541: The name tf.placeholder is deprecated. Please use tf.compat.v1.placeholder instead.\n",
            "\n",
            "WARNING:tensorflow:From /usr/local/lib/python3.6/dist-packages/keras/backend/tensorflow_backend.py:4432: The name tf.random_uniform is deprecated. Please use tf.random.uniform instead.\n",
            "\n",
            "WARNING:tensorflow:From /usr/local/lib/python3.6/dist-packages/keras/backend/tensorflow_backend.py:190: The name tf.get_default_session is deprecated. Please use tf.compat.v1.get_default_session instead.\n",
            "\n",
            "WARNING:tensorflow:From /usr/local/lib/python3.6/dist-packages/keras/backend/tensorflow_backend.py:197: The name tf.ConfigProto is deprecated. Please use tf.compat.v1.ConfigProto instead.\n",
            "\n",
            "WARNING:tensorflow:From /usr/local/lib/python3.6/dist-packages/keras/backend/tensorflow_backend.py:203: The name tf.Session is deprecated. Please use tf.compat.v1.Session instead.\n",
            "\n",
            "WARNING:tensorflow:From /usr/local/lib/python3.6/dist-packages/keras/backend/tensorflow_backend.py:207: The name tf.global_variables is deprecated. Please use tf.compat.v1.global_variables instead.\n",
            "\n",
            "WARNING:tensorflow:From /usr/local/lib/python3.6/dist-packages/keras/backend/tensorflow_backend.py:216: The name tf.is_variable_initialized is deprecated. Please use tf.compat.v1.is_variable_initialized instead.\n",
            "\n",
            "WARNING:tensorflow:From /usr/local/lib/python3.6/dist-packages/keras/backend/tensorflow_backend.py:223: The name tf.variables_initializer is deprecated. Please use tf.compat.v1.variables_initializer instead.\n",
            "\n",
            "WARNING:tensorflow:From /usr/local/lib/python3.6/dist-packages/keras/backend/tensorflow_backend.py:2041: The name tf.nn.fused_batch_norm is deprecated. Please use tf.compat.v1.nn.fused_batch_norm instead.\n",
            "\n",
            "WARNING:tensorflow:From /usr/local/lib/python3.6/dist-packages/keras/backend/tensorflow_backend.py:148: The name tf.placeholder_with_default is deprecated. Please use tf.compat.v1.placeholder_with_default instead.\n",
            "\n",
            "WARNING:tensorflow:From /usr/local/lib/python3.6/dist-packages/keras/backend/tensorflow_backend.py:3733: calling dropout (from tensorflow.python.ops.nn_ops) with keep_prob is deprecated and will be removed in a future version.\n",
            "Instructions for updating:\n",
            "Please use `rate` instead of `keep_prob`. Rate should be set to `rate = 1 - keep_prob`.\n",
            "WARNING:tensorflow:From /usr/local/lib/python3.6/dist-packages/keras/backend/tensorflow_backend.py:4267: The name tf.nn.max_pool is deprecated. Please use tf.nn.max_pool2d instead.\n",
            "\n",
            "Model: \"sequential_1\"\n",
            "_________________________________________________________________\n",
            "Layer (type)                 Output Shape              Param #   \n",
            "=================================================================\n",
            "input (Conv2D)               (None, 26, 26, 16)        144       \n",
            "_________________________________________________________________\n",
            "BN1 (BatchNormalization)     (None, 26, 26, 16)        64        \n",
            "_________________________________________________________________\n",
            "drop1 (Dropout)              (None, 26, 26, 16)        0         \n",
            "_________________________________________________________________\n",
            "layer1 (Conv2D)              (None, 24, 24, 16)        2304      \n",
            "_________________________________________________________________\n",
            "BN2 (BatchNormalization)     (None, 24, 24, 16)        64        \n",
            "_________________________________________________________________\n",
            "drop2 (Dropout)              (None, 24, 24, 16)        0         \n",
            "_________________________________________________________________\n",
            "trans1 (Conv2D)              (None, 24, 24, 16)        256       \n",
            "_________________________________________________________________\n",
            "BN3 (BatchNormalization)     (None, 24, 24, 16)        64        \n",
            "_________________________________________________________________\n",
            "MP1 (MaxPooling2D)           (None, 12, 12, 16)        0         \n",
            "_________________________________________________________________\n",
            "layer2 (Conv2D)              (None, 10, 10, 16)        2304      \n",
            "_________________________________________________________________\n",
            "BN4 (BatchNormalization)     (None, 10, 10, 16)        64        \n",
            "_________________________________________________________________\n",
            "drop3 (Dropout)              (None, 10, 10, 16)        0         \n",
            "_________________________________________________________________\n",
            "layer3 (Conv2D)              (None, 8, 8, 16)          2304      \n",
            "_________________________________________________________________\n",
            "BN5 (BatchNormalization)     (None, 8, 8, 16)          64        \n",
            "_________________________________________________________________\n",
            "drop4 (Dropout)              (None, 8, 8, 16)          0         \n",
            "_________________________________________________________________\n",
            "MP2 (MaxPooling2D)           (None, 4, 4, 16)          0         \n",
            "_________________________________________________________________\n",
            "layer4 (Conv2D)              (None, 2, 2, 32)          4608      \n",
            "_________________________________________________________________\n",
            "BN7 (BatchNormalization)     (None, 2, 2, 32)          128       \n",
            "_________________________________________________________________\n",
            "drop5 (Dropout)              (None, 2, 2, 32)          0         \n",
            "_________________________________________________________________\n",
            "conv2d_1 (Conv2D)            (None, 2, 2, 10)          320       \n",
            "_________________________________________________________________\n",
            "output (GlobalAveragePooling (None, 10)                0         \n",
            "_________________________________________________________________\n",
            "softmax (Activation)         (None, 10)                0         \n",
            "=================================================================\n",
            "Total params: 12,688\n",
            "Trainable params: 12,464\n",
            "Non-trainable params: 224\n",
            "_________________________________________________________________\n",
            "WARNING:tensorflow:From /usr/local/lib/python3.6/dist-packages/keras/optimizers.py:793: The name tf.train.Optimizer is deprecated. Please use tf.compat.v1.train.Optimizer instead.\n",
            "\n",
            "WARNING:tensorflow:From /usr/local/lib/python3.6/dist-packages/keras/backend/tensorflow_backend.py:3576: The name tf.log is deprecated. Please use tf.math.log instead.\n",
            "\n",
            "WARNING:tensorflow:From /usr/local/lib/python3.6/dist-packages/tensorflow_core/python/ops/math_grad.py:1424: where (from tensorflow.python.ops.array_ops) is deprecated and will be removed in a future version.\n",
            "Instructions for updating:\n",
            "Use tf.where in 2.0, which has the same broadcast rule as np.where\n"
          ],
          "name": "stdout"
        },
        {
          "output_type": "stream",
          "text": [
            "/usr/local/lib/python3.6/dist-packages/ipykernel_launcher.py:49: UserWarning: The `nb_epoch` argument in `fit` has been renamed `epochs`.\n"
          ],
          "name": "stderr"
        },
        {
          "output_type": "stream",
          "text": [
            "WARNING:tensorflow:From /usr/local/lib/python3.6/dist-packages/keras/backend/tensorflow_backend.py:1033: The name tf.assign_add is deprecated. Please use tf.compat.v1.assign_add instead.\n",
            "\n",
            "WARNING:tensorflow:From /usr/local/lib/python3.6/dist-packages/keras/backend/tensorflow_backend.py:1020: The name tf.assign is deprecated. Please use tf.compat.v1.assign instead.\n",
            "\n",
            "Train on 60000 samples, validate on 10000 samples\n",
            "Epoch 1/20\n",
            "60000/60000 [==============================] - 29s 477us/step - loss: 0.1722 - acc: 0.9505 - val_loss: 0.0475 - val_acc: 0.9860\n",
            "Epoch 2/20\n",
            "60000/60000 [==============================] - 27s 444us/step - loss: 0.0650 - acc: 0.9800 - val_loss: 0.0327 - val_acc: 0.9899\n",
            "Epoch 3/20\n",
            "60000/60000 [==============================] - 28s 461us/step - loss: 0.0523 - acc: 0.9838 - val_loss: 0.0314 - val_acc: 0.9899\n",
            "Epoch 4/20\n",
            "60000/60000 [==============================] - 28s 462us/step - loss: 0.0467 - acc: 0.9853 - val_loss: 0.0249 - val_acc: 0.9925\n",
            "Epoch 5/20\n",
            "60000/60000 [==============================] - 27s 456us/step - loss: 0.0422 - acc: 0.9865 - val_loss: 0.0248 - val_acc: 0.9914\n",
            "Epoch 6/20\n",
            "60000/60000 [==============================] - 27s 455us/step - loss: 0.0387 - acc: 0.9880 - val_loss: 0.0232 - val_acc: 0.9917\n",
            "Epoch 7/20\n",
            "60000/60000 [==============================] - 27s 456us/step - loss: 0.0361 - acc: 0.9884 - val_loss: 0.0230 - val_acc: 0.9915\n",
            "Epoch 8/20\n",
            "60000/60000 [==============================] - 27s 456us/step - loss: 0.0366 - acc: 0.9886 - val_loss: 0.0215 - val_acc: 0.9926\n",
            "Epoch 9/20\n",
            "60000/60000 [==============================] - 27s 454us/step - loss: 0.0331 - acc: 0.9896 - val_loss: 0.0225 - val_acc: 0.9919\n",
            "Epoch 10/20\n",
            "60000/60000 [==============================] - 27s 456us/step - loss: 0.0328 - acc: 0.9898 - val_loss: 0.0209 - val_acc: 0.9929\n",
            "Epoch 11/20\n",
            "60000/60000 [==============================] - 27s 456us/step - loss: 0.0305 - acc: 0.9901 - val_loss: 0.0208 - val_acc: 0.9930\n",
            "Epoch 12/20\n",
            "60000/60000 [==============================] - 27s 453us/step - loss: 0.0298 - acc: 0.9906 - val_loss: 0.0227 - val_acc: 0.9934\n",
            "Epoch 13/20\n",
            "60000/60000 [==============================] - 27s 455us/step - loss: 0.0283 - acc: 0.9913 - val_loss: 0.0183 - val_acc: 0.9942\n",
            "Epoch 14/20\n",
            "60000/60000 [==============================] - 27s 456us/step - loss: 0.0282 - acc: 0.9912 - val_loss: 0.0192 - val_acc: 0.9932\n",
            "Epoch 15/20\n",
            "60000/60000 [==============================] - 28s 465us/step - loss: 0.0277 - acc: 0.9917 - val_loss: 0.0198 - val_acc: 0.9936\n",
            "Epoch 16/20\n",
            "60000/60000 [==============================] - 27s 454us/step - loss: 0.0278 - acc: 0.9914 - val_loss: 0.0181 - val_acc: 0.9944\n",
            "Epoch 17/20\n",
            "60000/60000 [==============================] - 27s 454us/step - loss: 0.0264 - acc: 0.9919 - val_loss: 0.0229 - val_acc: 0.9933\n",
            "Epoch 18/20\n",
            "60000/60000 [==============================] - 27s 455us/step - loss: 0.0251 - acc: 0.9920 - val_loss: 0.0200 - val_acc: 0.9936\n",
            "Epoch 19/20\n",
            "60000/60000 [==============================] - 27s 454us/step - loss: 0.0240 - acc: 0.9923 - val_loss: 0.0240 - val_acc: 0.9923\n",
            "Epoch 20/20\n",
            "60000/60000 [==============================] - 27s 455us/step - loss: 0.0252 - acc: 0.9918 - val_loss: 0.0192 - val_acc: 0.9935\n"
          ],
          "name": "stdout"
        }
      ]
    },
    {
      "cell_type": "code",
      "metadata": {
        "id": "L2IicGJ4x3Be",
        "colab_type": "code",
        "outputId": "2bf0c08e-03cd-4d0d-8126-6b2b0384f50d",
        "colab": {
          "base_uri": "https://localhost:8080/",
          "height": 54
        }
      },
      "source": [
        "'''\n",
        "from keras.optimizers import Adam\n",
        "from keras.callbacks import LearningRateScheduler\n",
        "def scheduler(epoch, lr):\n",
        "  return round(0.003 * 1/(1 + 0.319 * epoch), 10)\n",
        "\n",
        "model.compile(loss='categorical_crossentropy', optimizer=Adam(lr=0.003), metrics=['accuracy'])\n",
        "\n",
        "model.fit(X_train, Y_train, batch_size=128, epochs=20, verbose=1, validation_data=(X_test, Y_test), callbacks=[LearningRateScheduler(scheduler, verbose=1)])\n",
        "'''"
      ],
      "execution_count": 9,
      "outputs": [
        {
          "output_type": "execute_result",
          "data": {
            "text/plain": [
              "\"\\nfrom keras.optimizers import Adam\\nfrom keras.callbacks import LearningRateScheduler\\ndef scheduler(epoch, lr):\\n  return round(0.003 * 1/(1 + 0.319 * epoch), 10)\\n\\nmodel.compile(loss='categorical_crossentropy', optimizer=Adam(lr=0.003), metrics=['accuracy'])\\n\\nmodel.fit(X_train, Y_train, batch_size=128, epochs=20, verbose=1, validation_data=(X_test, Y_test), callbacks=[LearningRateScheduler(scheduler, verbose=1)])\\n\""
            ]
          },
          "metadata": {
            "tags": []
          },
          "execution_count": 9
        }
      ]
    },
    {
      "cell_type": "code",
      "metadata": {
        "id": "WLxlW9ufyQiO",
        "colab_type": "code",
        "outputId": "0795e852-a5b1-47ec-fec5-a7bb455c2d71",
        "colab": {
          "base_uri": "https://localhost:8080/",
          "height": 34
        }
      },
      "source": [
        "\n",
        "score = model.evaluate(X_test, Y_test, verbose=0)\n",
        "print(score)"
      ],
      "execution_count": 10,
      "outputs": [
        {
          "output_type": "stream",
          "text": [
            "[0.019193828565673903, 0.9935]\n"
          ],
          "name": "stdout"
        }
      ]
    },
    {
      "cell_type": "code",
      "metadata": {
        "id": "m2qDl21ozBnW",
        "colab_type": "code",
        "colab": {}
      },
      "source": [
        ""
      ],
      "execution_count": 0,
      "outputs": []
    }
  ]
}