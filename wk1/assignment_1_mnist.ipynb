{
  "nbformat": 4,
  "nbformat_minor": 0,
  "metadata": {
    "colab": {
      "name": "assignment 1 mnist.ipynb",
      "provenance": [],
      "collapsed_sections": [],
      "include_colab_link": true
    },
    "kernelspec": {
      "name": "python3",
      "display_name": "Python 3"
    },
    "accelerator": "GPU"
  },
  "cells": [
    {
      "cell_type": "markdown",
      "metadata": {
        "id": "view-in-github",
        "colab_type": "text"
      },
      "source": [
        "<a href=\"https://colab.research.google.com/github/ShaunakNandi/EIP4.0/blob/master/wk1/assignment_1_mnist.ipynb\" target=\"_parent\"><img src=\"https://colab.research.google.com/assets/colab-badge.svg\" alt=\"Open In Colab\"/></a>"
      ]
    },
    {
      "cell_type": "markdown",
      "metadata": {
        "id": "aNyZv-Ec52ot",
        "colab_type": "text"
      },
      "source": [
        "# **Import Libraries and modules**"
      ]
    },
    {
      "cell_type": "code",
      "metadata": {
        "id": "3m3w1Cw49Zkt",
        "colab_type": "code",
        "colab": {
          "base_uri": "https://localhost:8080/",
          "height": 93
        },
        "outputId": "fcec9b08-e553-4e26-9e56-cb682a99d03a"
      },
      "source": [
        "# https://keras.io/\n",
        "!pip install -q keras\n",
        "import keras"
      ],
      "execution_count": 1,
      "outputs": [
        {
          "output_type": "stream",
          "text": [
            "Using TensorFlow backend.\n"
          ],
          "name": "stderr"
        },
        {
          "output_type": "display_data",
          "data": {
            "text/html": [
              "<p style=\"color: red;\">\n",
              "The default version of TensorFlow in Colab will soon switch to TensorFlow 2.x.<br>\n",
              "We recommend you <a href=\"https://www.tensorflow.org/guide/migrate\" target=\"_blank\">upgrade</a> now \n",
              "or ensure your notebook will continue to use TensorFlow 1.x via the <code>%tensorflow_version 1.x</code> magic:\n",
              "<a href=\"https://colab.research.google.com/notebooks/tensorflow_version.ipynb\" target=\"_blank\">more info</a>.</p>\n"
            ],
            "text/plain": [
              "<IPython.core.display.HTML object>"
            ]
          },
          "metadata": {
            "tags": []
          }
        }
      ]
    },
    {
      "cell_type": "code",
      "metadata": {
        "id": "Eso6UHE080D4",
        "colab_type": "code",
        "colab": {}
      },
      "source": [
        "import numpy as np\n",
        "\n",
        "from keras.models import Sequential\n",
        "from keras.layers import Dense, Dropout, Activation, Flatten, Add\n",
        "from keras.layers import Convolution2D, MaxPooling2D\n",
        "from keras.utils import np_utils\n",
        "\n",
        "from keras.datasets import mnist"
      ],
      "execution_count": 0,
      "outputs": []
    },
    {
      "cell_type": "markdown",
      "metadata": {
        "id": "zByEi95J86RD",
        "colab_type": "text"
      },
      "source": [
        "### Load pre-shuffled MNIST data into train and test sets"
      ]
    },
    {
      "cell_type": "code",
      "metadata": {
        "id": "7eRM0QWN83PV",
        "colab_type": "code",
        "colab": {}
      },
      "source": [
        "(X_train, y_train), (X_test, y_test) = mnist.load_data()"
      ],
      "execution_count": 0,
      "outputs": []
    },
    {
      "cell_type": "code",
      "metadata": {
        "id": "4a4Be72j8-ZC",
        "colab_type": "code",
        "outputId": "e788aa94-7278-4f92-cf49-27618d4e4c83",
        "colab": {
          "base_uri": "https://localhost:8080/",
          "height": 297
        }
      },
      "source": [
        "print (X_train.shape)\n",
        "from matplotlib import pyplot as plt\n",
        "%matplotlib inline\n",
        "plt.imshow(X_train[0])"
      ],
      "execution_count": 4,
      "outputs": [
        {
          "output_type": "stream",
          "text": [
            "(60000, 28, 28)\n"
          ],
          "name": "stdout"
        },
        {
          "output_type": "execute_result",
          "data": {
            "text/plain": [
              "<matplotlib.image.AxesImage at 0x7f82150ac3c8>"
            ]
          },
          "metadata": {
            "tags": []
          },
          "execution_count": 4
        },
        {
          "output_type": "display_data",
          "data": {
            "image/png": "[encoded data removed]",
            "text/plain": [
              "<Figure size 432x288 with 1 Axes>"
            ]
          },
          "metadata": {
            "tags": []
          }
        }
      ]
    },
    {
      "cell_type": "code",
      "metadata": {
        "id": "dkmprriw9AnZ",
        "colab_type": "code",
        "colab": {}
      },
      "source": [
        "X_train = X_train.reshape(X_train.shape[0], 28, 28,1)\n",
        "X_test = X_test.reshape(X_test.shape[0], 28, 28,1)"
      ],
      "execution_count": 0,
      "outputs": []
    },
    {
      "cell_type": "code",
      "metadata": {
        "id": "X2m4YS4E9CRh",
        "colab_type": "code",
        "colab": {}
      },
      "source": [
        "X_train = X_train.astype('float32')\n",
        "X_test = X_test.astype('float32')\n",
        "X_train /= 255\n",
        "X_test /= 255"
      ],
      "execution_count": 0,
      "outputs": []
    },
    {
      "cell_type": "code",
      "metadata": {
        "id": "0Mn0vAYD9DvB",
        "colab_type": "code",
        "outputId": "562cb89c-2f64-4979-8441-e32d6b5dff1f",
        "colab": {
          "base_uri": "https://localhost:8080/",
          "height": 33
        }
      },
      "source": [
        "y_train[:10]"
      ],
      "execution_count": 7,
      "outputs": [
        {
          "output_type": "execute_result",
          "data": {
            "text/plain": [
              "array([5, 0, 4, 1, 9, 2, 1, 3, 1, 4], dtype=uint8)"
            ]
          },
          "metadata": {
            "tags": []
          },
          "execution_count": 7
        }
      ]
    },
    {
      "cell_type": "code",
      "metadata": {
        "id": "ZG8JiXR39FHC",
        "colab_type": "code",
        "colab": {}
      },
      "source": [
        "# Convert 1-dimensional class arrays to 10-dimensional class matrices\n",
        "Y_train = np_utils.to_categorical(y_train, 10)\n",
        "Y_test = np_utils.to_categorical(y_test, 10)"
      ],
      "execution_count": 0,
      "outputs": []
    },
    {
      "cell_type": "code",
      "metadata": {
        "id": "fYlFRvKS9HMB",
        "colab_type": "code",
        "outputId": "44f6b12f-b48e-4694-c6b2-db71c6d50200",
        "colab": {
          "base_uri": "https://localhost:8080/",
          "height": 180
        }
      },
      "source": [
        "Y_train[:10]\n"
      ],
      "execution_count": 9,
      "outputs": [
        {
          "output_type": "execute_result",
          "data": {
            "text/plain": [
              "array([[0., 0., 0., 0., 0., 1., 0., 0., 0., 0.],\n",
              "       [1., 0., 0., 0., 0., 0., 0., 0., 0., 0.],\n",
              "       [0., 0., 0., 0., 1., 0., 0., 0., 0., 0.],\n",
              "       [0., 1., 0., 0., 0., 0., 0., 0., 0., 0.],\n",
              "       [0., 0., 0., 0., 0., 0., 0., 0., 0., 1.],\n",
              "       [0., 0., 1., 0., 0., 0., 0., 0., 0., 0.],\n",
              "       [0., 1., 0., 0., 0., 0., 0., 0., 0., 0.],\n",
              "       [0., 0., 0., 1., 0., 0., 0., 0., 0., 0.],\n",
              "       [0., 1., 0., 0., 0., 0., 0., 0., 0., 0.],\n",
              "       [0., 0., 0., 0., 1., 0., 0., 0., 0., 0.]], dtype=float32)"
            ]
          },
          "metadata": {
            "tags": []
          },
          "execution_count": 9
        }
      ]
    },
    {
      "cell_type": "markdown",
      "metadata": {
        "id": "qdnkwUEssowl",
        "colab_type": "text"
      },
      "source": [
        "# The Model"
      ]
    },
    {
      "cell_type": "code",
      "metadata": {
        "id": "osKqT73Q9JJB",
        "colab_type": "code",
        "colab": {}
      },
      "source": [
        "from keras.layers import Activation\n",
        "from keras.layers.normalization import BatchNormalization\n",
        "\n",
        "model = Sequential()\n",
        "\n",
        "model.add(Convolution2D(16, (3,3), activation='relu', input_shape=(28,28,1), name='input')) #o/p res:26x26 RF:3x3\n",
        "model.add(BatchNormalization())\n",
        "model.add(Dropout(0.1, name='drop1'))\n",
        "model.add(Convolution2D(32, (3,3), activation='relu', name='layer1')) #o/p res:24x24 RF:5x5\n",
        "model.add(Convolution2D(16, (1,1), activation='relu', name='trans1')) #o/p res:24x24\n",
        "model.add(BatchNormalization(name='BN1'))\n",
        "model.add(Dropout(0.1, name='drop2'))\n",
        "\n",
        "model.add(MaxPooling2D(2,2, name='MP1')) #o/p res:12x12 RF:10x10\n",
        "\n",
        "model.add(Convolution2D(16, (3,3), activation='relu', name='layer2')) #o/p res:10x10 RF:12x12\n",
        "model.add(BatchNormalization(name='BN2'))\n",
        "model.add(Dropout(0.1, name='drop3'))\n",
        "\n",
        "model.add(Convolution2D(32, (3,3), activation='relu', name='layer3')) #o/p res:8x8 RF:14x14\n",
        "model.add(Convolution2D(16, (1,1), activation='relu', name='trans2')) #o/p res:8x8\n",
        "model.add(BatchNormalization(name='BN3'))\n",
        "model.add(Dropout(0.1, name='drop4'))\n",
        "\n",
        "model.add(MaxPooling2D(2,2, name='MP2')) #o/p res:4x4 RF:28x28\n",
        "\n",
        "model.add(Convolution2D(16, (3,3), activation='relu', name='layer4')) #o/p res:2x2 RF:30x30\n",
        "model.add(BatchNormalization(name='BN4'))\n",
        "model.add(Dropout(0.3, name='drop5'))\n",
        "\n",
        "model.add(Convolution2D(10, 1, activation='relu', name='trans3'))\n",
        "model.add(Convolution2D(10, 2))\n",
        "model.add(Flatten(name='unroll'))\n",
        "model.add(Activation('softmax', name='output'))"
      ],
      "execution_count": 0,
      "outputs": []
    },
    {
      "cell_type": "markdown",
      "metadata": {
        "id": "skzOzyRmssnw",
        "colab_type": "text"
      },
      "source": [
        "# Model Summary"
      ]
    },
    {
      "cell_type": "code",
      "metadata": {
        "id": "TzdAYg1k9K7Z",
        "colab_type": "code",
        "outputId": "991763ed-c8e7-43d8-ad64-8f2b2900cbe4",
        "colab": {
          "base_uri": "https://localhost:8080/",
          "height": 895
        }
      },
      "source": [
        "model.summary()"
      ],
      "execution_count": 11,
      "outputs": [
        {
          "output_type": "stream",
          "text": [
            "Model: \"sequential_1\"\n",
            "_________________________________________________________________\n",
            "Layer (type)                 Output Shape              Param #   \n",
            "=================================================================\n",
            "input (Conv2D)               (None, 26, 26, 16)        160       \n",
            "_________________________________________________________________\n",
            "batch_normalization_1 (Batch (None, 26, 26, 16)        64        \n",
            "_________________________________________________________________\n",
            "drop1 (Dropout)              (None, 26, 26, 16)        0         \n",
            "_________________________________________________________________\n",
            "layer1 (Conv2D)              (None, 24, 24, 32)        4640      \n",
            "_________________________________________________________________\n",
            "trans1 (Conv2D)              (None, 24, 24, 16)        528       \n",
            "_________________________________________________________________\n",
            "BN1 (BatchNormalization)     (None, 24, 24, 16)        64        \n",
            "_________________________________________________________________\n",
            "drop2 (Dropout)              (None, 24, 24, 16)        0         \n",
            "_________________________________________________________________\n",
            "MP1 (MaxPooling2D)           (None, 12, 12, 16)        0         \n",
            "_________________________________________________________________\n",
            "layer2 (Conv2D)              (None, 10, 10, 16)        2320      \n",
            "_________________________________________________________________\n",
            "BN2 (BatchNormalization)     (None, 10, 10, 16)        64        \n",
            "_________________________________________________________________\n",
            "drop3 (Dropout)              (None, 10, 10, 16)        0         \n",
            "_________________________________________________________________\n",
            "layer3 (Conv2D)              (None, 8, 8, 32)          4640      \n",
            "_________________________________________________________________\n",
            "trans2 (Conv2D)              (None, 8, 8, 16)          528       \n",
            "_________________________________________________________________\n",
            "BN3 (BatchNormalization)     (None, 8, 8, 16)          64        \n",
            "_________________________________________________________________\n",
            "drop4 (Dropout)              (None, 8, 8, 16)          0         \n",
            "_________________________________________________________________\n",
            "MP2 (MaxPooling2D)           (None, 4, 4, 16)          0         \n",
            "_________________________________________________________________\n",
            "layer4 (Conv2D)              (None, 2, 2, 16)          2320      \n",
            "_________________________________________________________________\n",
            "BN4 (BatchNormalization)     (None, 2, 2, 16)          64        \n",
            "_________________________________________________________________\n",
            "drop5 (Dropout)              (None, 2, 2, 16)          0         \n",
            "_________________________________________________________________\n",
            "trans3 (Conv2D)              (None, 2, 2, 10)          170       \n",
            "_________________________________________________________________\n",
            "conv2d_1 (Conv2D)            (None, 1, 1, 10)          410       \n",
            "_________________________________________________________________\n",
            "unroll (Flatten)             (None, 10)                0         \n",
            "_________________________________________________________________\n",
            "output (Activation)          (None, 10)                0         \n",
            "=================================================================\n",
            "Total params: 16,036\n",
            "Trainable params: 15,876\n",
            "Non-trainable params: 160\n",
            "_________________________________________________________________\n"
          ],
          "name": "stdout"
        }
      ]
    },
    {
      "cell_type": "markdown",
      "metadata": {
        "id": "YY0HNZyysu5o",
        "colab_type": "text"
      },
      "source": [
        "# Compile Model and run Regression"
      ]
    },
    {
      "cell_type": "code",
      "metadata": {
        "id": "Zp6SuGrL9M3h",
        "colab_type": "code",
        "colab": {
          "base_uri": "https://localhost:8080/",
          "height": 102
        },
        "outputId": "0bcf3e91-930f-4c18-d2d9-b1a75a6da793"
      },
      "source": [
        "model.compile(loss='categorical_crossentropy',\n",
        "             optimizer='adam',\n",
        "             metrics=['accuracy'])"
      ],
      "execution_count": 12,
      "outputs": [
        {
          "output_type": "stream",
          "text": [
            "WARNING:tensorflow:From /usr/local/lib/python3.6/dist-packages/keras/optimizers.py:793: The name tf.train.Optimizer is deprecated. Please use tf.compat.v1.train.Optimizer instead.\n",
            "\n",
            "WARNING:tensorflow:From /usr/local/lib/python3.6/dist-packages/keras/backend/tensorflow_backend.py:3576: The name tf.log is deprecated. Please use tf.math.log instead.\n",
            "\n"
          ],
          "name": "stdout"
        }
      ]
    },
    {
      "cell_type": "code",
      "metadata": {
        "id": "4xWoKhPY9Of5",
        "colab_type": "code",
        "outputId": "13ad3671-c71c-4234-d9cb-6a103000c1e7",
        "colab": {
          "base_uri": "https://localhost:8080/",
          "height": 525
        }
      },
      "source": [
        "model.fit(X_train, Y_train, batch_size=32, nb_epoch=10, verbose=1)"
      ],
      "execution_count": 13,
      "outputs": [
        {
          "output_type": "stream",
          "text": [
            "WARNING:tensorflow:From /usr/local/lib/python3.6/dist-packages/tensorflow_core/python/ops/math_grad.py:1424: where (from tensorflow.python.ops.array_ops) is deprecated and will be removed in a future version.\n",
            "Instructions for updating:\n",
            "Use tf.where in 2.0, which has the same broadcast rule as np.where\n"
          ],
          "name": "stdout"
        },
        {
          "output_type": "stream",
          "text": [
            "/usr/local/lib/python3.6/dist-packages/ipykernel_launcher.py:1: UserWarning: The `nb_epoch` argument in `fit` has been renamed `epochs`.\n",
            "  \"\"\"Entry point for launching an IPython kernel.\n"
          ],
          "name": "stderr"
        },
        {
          "output_type": "stream",
          "text": [
            "WARNING:tensorflow:From /usr/local/lib/python3.6/dist-packages/keras/backend/tensorflow_backend.py:1033: The name tf.assign_add is deprecated. Please use tf.compat.v1.assign_add instead.\n",
            "\n",
            "WARNING:tensorflow:From /usr/local/lib/python3.6/dist-packages/keras/backend/tensorflow_backend.py:1020: The name tf.assign is deprecated. Please use tf.compat.v1.assign instead.\n",
            "\n",
            "Epoch 1/10\n",
            "60000/60000 [==============================] - 22s 368us/step - loss: 0.3462 - acc: 0.8970\n",
            "Epoch 2/10\n",
            "60000/60000 [==============================] - 19s 318us/step - loss: 0.0997 - acc: 0.9700\n",
            "Epoch 3/10\n",
            "60000/60000 [==============================] - 19s 317us/step - loss: 0.0773 - acc: 0.9766\n",
            "Epoch 4/10\n",
            "60000/60000 [==============================] - 19s 319us/step - loss: 0.0658 - acc: 0.9799\n",
            "Epoch 5/10\n",
            "60000/60000 [==============================] - 19s 323us/step - loss: 0.0567 - acc: 0.9822\n",
            "Epoch 6/10\n",
            "60000/60000 [==============================] - 19s 317us/step - loss: 0.0529 - acc: 0.9839\n",
            "Epoch 7/10\n",
            "60000/60000 [==============================] - 19s 317us/step - loss: 0.0482 - acc: 0.9857\n",
            "Epoch 8/10\n",
            "60000/60000 [==============================] - 19s 318us/step - loss: 0.0468 - acc: 0.9856\n",
            "Epoch 9/10\n",
            "60000/60000 [==============================] - 19s 319us/step - loss: 0.0455 - acc: 0.9860\n",
            "Epoch 10/10\n",
            "60000/60000 [==============================] - 19s 317us/step - loss: 0.0431 - acc: 0.9867\n"
          ],
          "name": "stdout"
        },
        {
          "output_type": "execute_result",
          "data": {
            "text/plain": [
              "<keras.callbacks.History at 0x7f820613cf28>"
            ]
          },
          "metadata": {
            "tags": []
          },
          "execution_count": 13
        }
      ]
    },
    {
      "cell_type": "markdown",
      "metadata": {
        "id": "jT9cl94oszzj",
        "colab_type": "text"
      },
      "source": [
        "# Accuracy print out (0.9921)"
      ]
    },
    {
      "cell_type": "code",
      "metadata": {
        "id": "AtsH-lLk-eLb",
        "colab_type": "code",
        "colab": {}
      },
      "source": [
        "score = model.evaluate(X_test, Y_test, verbose=0)"
      ],
      "execution_count": 0,
      "outputs": []
    },
    {
      "cell_type": "code",
      "metadata": {
        "id": "mkX8JMv79q9r",
        "colab_type": "code",
        "outputId": "eb811f02-53ae-48dd-e740-1e1c30716964",
        "colab": {
          "base_uri": "https://localhost:8080/",
          "height": 33
        }
      },
      "source": [
        "print(score)"
      ],
      "execution_count": 15,
      "outputs": [
        {
          "output_type": "stream",
          "text": [
            "[0.02707874854534748, 0.9921]\n"
          ],
          "name": "stdout"
        }
      ]
    },
    {
      "cell_type": "code",
      "metadata": {
        "id": "OCWoJkwE9suh",
        "colab_type": "code",
        "colab": {}
      },
      "source": [
        "y_pred = model.predict(X_test)"
      ],
      "execution_count": 0,
      "outputs": []
    },
    {
      "cell_type": "code",
      "metadata": {
        "id": "Ym7iCFBm9uBs",
        "colab_type": "code",
        "outputId": "4ff6589c-c503-4502-fccd-ac9dc5a90f33",
        "colab": {
          "base_uri": "https://localhost:8080/",
          "height": 472
        }
      },
      "source": [
        "print(y_pred[:9])\n",
        "print(y_test[:9])"
      ],
      "execution_count": 17,
      "outputs": [
        {
          "output_type": "stream",
          "text": [
            "[[4.77693085e-09 1.55891883e-06 4.69691273e-08 2.79728720e-08\n",
            "  4.05838169e-10 7.78290932e-10 9.09833580e-12 9.99998212e-01\n",
            "  2.37205117e-10 1.33830525e-07]\n",
            " [3.10624921e-04 3.93120834e-04 9.99220133e-01 9.08533821e-06\n",
            "  1.16923247e-05 1.29842874e-06 3.33689968e-05 4.23562869e-06\n",
            "  1.63895202e-05 5.41452252e-08]\n",
            " [8.31126812e-08 9.99972939e-01 5.79611935e-07 1.81187723e-08\n",
            "  3.02605326e-06 1.18398752e-07 4.35337881e-08 2.03447034e-05\n",
            "  2.18292507e-06 6.66091751e-07]\n",
            " [9.99970675e-01 1.29448663e-09 1.18250387e-06 2.29939001e-09\n",
            "  9.11258269e-09 4.98748932e-06 1.43187190e-05 1.48108938e-07\n",
            "  1.68128417e-06 7.00435612e-06]\n",
            " [1.75467605e-08 1.26453260e-05 5.28767359e-08 2.86948132e-10\n",
            "  9.99914289e-01 3.19796012e-09 4.38941683e-08 1.29119712e-07\n",
            "  9.66878929e-07 7.18672891e-05]\n",
            " [3.87051067e-08 9.99976039e-01 4.87621001e-08 1.64338088e-09\n",
            "  8.69693122e-06 1.59979248e-08 2.01771932e-08 1.32185714e-05\n",
            "  1.20180914e-06 8.79379741e-07]\n",
            " [4.86837521e-08 8.77449638e-04 1.51555912e-06 3.45972762e-09\n",
            "  9.98866558e-01 5.30276395e-07 1.19866073e-07 1.11747295e-05\n",
            "  1.81680414e-04 6.10179741e-05]\n",
            " [1.18023274e-06 3.03263503e-09 1.53623405e-04 8.74318147e-08\n",
            "  3.47747613e-04 4.10616536e-07 1.09643095e-08 6.52074641e-06\n",
            "  1.42715389e-05 9.99476135e-01]\n",
            " [5.52083202e-06 1.27756221e-05 1.22855738e-07 6.74594673e-07\n",
            "  2.63866610e-07 9.99572217e-01 1.12819216e-05 1.02430713e-08\n",
            "  3.11871729e-04 8.52469166e-05]]\n",
            "[7 2 1 0 4 1 4 9 5]\n"
          ],
          "name": "stdout"
        }
      ]
    },
    {
      "cell_type": "code",
      "metadata": {
        "id": "CT--y98_dr2T",
        "colab_type": "code",
        "colab": {}
      },
      "source": [
        "layer_dict = dict([(layer.name, layer) for layer in model.layers])"
      ],
      "execution_count": 0,
      "outputs": []
    },
    {
      "cell_type": "markdown",
      "metadata": {
        "id": "NvpKpHJ-tABO",
        "colab_type": "text"
      },
      "source": [
        "# Visualization"
      ]
    },
    {
      "cell_type": "code",
      "metadata": {
        "id": "2GY4Upv4dsUR",
        "colab_type": "code",
        "outputId": "ba985ea2-53a7-48cc-ab55-bd6cbd89c8bd",
        "colab": {
          "base_uri": "https://localhost:8080/",
          "height": 857
        }
      },
      "source": [
        "import numpy as np\n",
        "from matplotlib import pyplot as plt\n",
        "from keras import backend as K\n",
        "%matplotlib inline\n",
        "# util function to convert a tensor into a valid image\n",
        "def deprocess_image(x):\n",
        "    # normalize tensor: center on 0., ensure std is 0.1\n",
        "    x -= x.mean()\n",
        "    x /= (x.std() + 1e-5)\n",
        "    x *= 0.1\n",
        "\n",
        "    # clip to [0, 1]\n",
        "    x += 0.5\n",
        "    x = np.clip(x, 0, 1)\n",
        "\n",
        "    # convert to RGB array\n",
        "    x *= 255\n",
        "    #x = x.transpose((1, 2, 0))\n",
        "    x = np.clip(x, 0, 255).astype('uint8')\n",
        "    return x\n",
        "\n",
        "def vis_img_in_filter(img = np.array(X_train[2]).reshape((1, 28, 28, 1)).astype(np.float64), \n",
        "                      layer_name = 'layer3'):\n",
        "    layer_output = layer_dict[layer_name].output\n",
        "    img_ascs = list()\n",
        "    for filter_index in range(layer_output.shape[3]):\n",
        "        # build a loss function that maximizes the activation\n",
        "        # of the nth filter of the layer considered\n",
        "        loss = K.mean(layer_output[:, :, :, filter_index])\n",
        "\n",
        "        # compute the gradient of the input picture wrt this loss\n",
        "        grads = K.gradients(loss, model.input)[0]\n",
        "\n",
        "        # normalization trick: we normalize the gradient\n",
        "        grads /= (K.sqrt(K.mean(K.square(grads))) + 1e-5)\n",
        "\n",
        "        # this function returns the loss and grads given the input picture\n",
        "        iterate = K.function([model.input], [loss, grads])\n",
        "\n",
        "        # step size for gradient ascent\n",
        "        step = 5.\n",
        "\n",
        "        img_asc = np.array(img)\n",
        "        # run gradient ascent for 20 steps\n",
        "        for i in range(20):\n",
        "            loss_value, grads_value = iterate([img_asc])\n",
        "            img_asc += grads_value * step\n",
        "\n",
        "        img_asc = img_asc[0]\n",
        "        img_ascs.append(deprocess_image(img_asc).reshape((28, 28)))\n",
        "        \n",
        "    if layer_output.shape[3] >= 35:\n",
        "        plot_x, plot_y = 6, 6\n",
        "    elif layer_output.shape[3] >= 23:\n",
        "        plot_x, plot_y = 4, 6\n",
        "    elif layer_output.shape[3] >= 11:\n",
        "        plot_x, plot_y = 2, 6\n",
        "    else:\n",
        "        plot_x, plot_y = 1, 2\n",
        "    fig, ax = plt.subplots(plot_x, plot_y, figsize = (12, 12))\n",
        "    ax[0, 0].imshow(img.reshape((28, 28)), cmap = 'gray')\n",
        "    ax[0, 0].set_title('Input image')\n",
        "    fig.suptitle('Input image and %s filters' % (layer_name,))\n",
        "    fig.tight_layout(pad = 0.3, rect = [0, 0, 0.9, 0.9])\n",
        "    for (x, y) in [(i, j) for i in range(plot_x) for j in range(plot_y)]:\n",
        "        if x == 0 and y == 0:\n",
        "            continue\n",
        "        ax[x, y].imshow(img_ascs[x * plot_y + y - 1], cmap = 'gray')\n",
        "        ax[x, y].set_title('filter %d' % (x * plot_y + y - 1))\n",
        "\n",
        "vis_img_in_filter()"
      ],
      "execution_count": 19,
      "outputs": [
        {
          "output_type": "display_data",
          "data": {
            "image/png": "[encoded data removed]",
            "text/plain": [
              "<Figure size 864x864 with 24 Axes>"
            ]
          },
          "metadata": {
            "tags": []
          }
        }
      ]
    },
    {
      "cell_type": "code",
      "metadata": {
        "id": "9tvptcn8dxvp",
        "colab_type": "code",
        "colab": {}
      },
      "source": [
        ""
      ],
      "execution_count": 0,
      "outputs": []
    }
  ]
}